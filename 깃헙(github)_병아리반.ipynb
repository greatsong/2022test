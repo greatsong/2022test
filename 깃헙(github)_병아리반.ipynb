{
  "nbformat": 4,
  "nbformat_minor": 0,
  "metadata": {
    "colab": {
      "name": "깃헙(github) 병아리반.ipynb",
      "provenance": [],
      "collapsed_sections": [],
      "authorship_tag": "ABX9TyPFJP0r0a/7bbR7BV17HA4j",
      "include_colab_link": true
    },
    "kernelspec": {
      "name": "python3",
      "display_name": "Python 3"
    },
    "language_info": {
      "name": "python"
    }
  },
  "cells": [
    {
      "cell_type": "markdown",
      "metadata": {
        "id": "view-in-github",
        "colab_type": "text"
      },
      "source": [
        "<a href=\"https://colab.research.google.com/github/greatsong/2022test/blob/main/%EA%B9%83%ED%97%99(github)_%EB%B3%91%EC%95%84%EB%A6%AC%EB%B0%98.ipynb\" target=\"_parent\"><img src=\"https://colab.research.google.com/assets/colab-badge.svg\" alt=\"Open In Colab\"/></a>"
      ]
    },
    {
      "cell_type": "code",
      "execution_count": null,
      "metadata": {
        "id": "mhjqP14W1oAD"
      },
      "outputs": [],
      "source": [
        "print('hello world!')"
      ]
    }
  ]
}